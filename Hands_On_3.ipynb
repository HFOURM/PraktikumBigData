{
  "nbformat": 4,
  "nbformat_minor": 0,
  "metadata": {
    "colab": {
      "provenance": [],
      "authorship_tag": "ABX9TyOwmhyCqxXDlA3tQp8saI/7",
      "include_colab_link": true
    },
    "kernelspec": {
      "name": "python3",
      "display_name": "Python 3"
    },
    "language_info": {
      "name": "python"
    }
  },
  "cells": [
    {
      "cell_type": "markdown",
      "metadata": {
        "id": "view-in-github",
        "colab_type": "text"
      },
      "source": [
        "<a href=\"https://colab.research.google.com/github/HFOURM/PraktikumBigData/blob/main/Hands_On_3.ipynb\" target=\"_parent\"><img src=\"https://colab.research.google.com/assets/colab-badge.svg\" alt=\"Open In Colab\"/></a>"
      ]
    },
    {
      "cell_type": "markdown",
      "source": [
        "# Pengenalan Spark DataFrames"
      ],
      "metadata": {
        "id": "2YZWaRLi6057"
      }
    },
    {
      "cell_type": "markdown",
      "source": [
        "Tugas 1 : Buat DataFrame sederhana di Spark dan eksplorasi beberapa fungsi dasar yang tersedia."
      ],
      "metadata": {
        "id": "HGBZkZ-DcB9w"
      }
    },
    {
      "cell_type": "code",
      "execution_count": 50,
      "metadata": {
        "id": "5xPUiXtPbtj0",
        "colab": {
          "base_uri": "https://localhost:8080/"
        },
        "outputId": "d83bb1f3-5222-496d-8f49-808e3824605f"
      },
      "outputs": [
        {
          "output_type": "stream",
          "name": "stdout",
          "text": [
            "+------------+-----------+------+\n",
            "|EmployeeName|Departement|Salary|\n",
            "+------------+-----------+------+\n",
            "|       James|      Sales|  3000|\n",
            "|     Michale|      Sales|  4600|\n",
            "|      Robert|      Sales|  4100|\n",
            "|       Maria|    Finance|  3000|\n",
            "+------------+-----------+------+\n",
            "\n"
          ]
        }
      ],
      "source": [
        "# Contoh membuat DataFtame Sederhana dan operasi dasar\n",
        "from pyspark.sql import SparkSession\n",
        "spark = SparkSession.builder.appName('HandsOnPertemuan3').getOrCreate()\n",
        "\n",
        "data = [('James', 'Sales', 3000),\n",
        "        ('Michale', 'Sales', 4600),\n",
        "        ('Robert', 'Sales', 4100),\n",
        "        ('Maria', 'Finance', 3000)]\n",
        "columns = ['EmployeeName', 'Departement', 'Salary']\n",
        "\n",
        "df = spark.createDataFrame(data, schema=colums)\n",
        "df.show()"
      ]
    },
    {
      "cell_type": "code",
      "source": [
        "# Tugas 1\n",
        "from pyspark.sql import SparkSession\n",
        "spark = SparkSession.builder.appName('TugasMembuatDataFrame').getOrCreate()\n",
        "\n",
        "data = [('P001', 'Laptop','Elektronik', 14000000),\n",
        "        ('P002', 'Mouse','Elektronik', 250000),\n",
        "        ('P003', 'Headset','Elektronik', 200000)]\n",
        "columns = ['kode_produk', 'nama_produk', 'kategori', 'harga']\n",
        "\n",
        "df = spark.createDataFrame(data, schema=columns)\n",
        "df.show()"
      ],
      "metadata": {
        "colab": {
          "base_uri": "https://localhost:8080/"
        },
        "id": "DwA_wVfmTBvN",
        "outputId": "7fb54ee8-7993-40ac-d771-e6ebc90d27da"
      },
      "execution_count": 52,
      "outputs": [
        {
          "output_type": "stream",
          "name": "stdout",
          "text": [
            "+-----------+-----------+----------+--------+\n",
            "|kode_produk|nama_produk|  kategori|   harga|\n",
            "+-----------+-----------+----------+--------+\n",
            "|       P001|     Laptop|Elektronik|14000000|\n",
            "|       P002|      Mouse|Elektronik|  250000|\n",
            "|       P003|    Headset|Elektronik|  200000|\n",
            "+-----------+-----------+----------+--------+\n",
            "\n"
          ]
        }
      ]
    },
    {
      "cell_type": "markdown",
      "source": [
        "# Transformasi Dasar dengan DataFrames"
      ],
      "metadata": {
        "id": "JoYonoVe66gO"
      }
    },
    {
      "cell_type": "markdown",
      "source": [
        "Tugas 2 : Gunakan operasi filter, select, groupBy untuk mengekstrak informasi dari data, serta lakukan agregasi data untuk mendapatkan insight tentang dataset menggunakan perintah seperti mean, max, sum."
      ],
      "metadata": {
        "id": "9iH9a08o3PiD"
      }
    },
    {
      "cell_type": "code",
      "source": [
        "# Contoh operasi transformasi DataFrame\n",
        "df.select('EmployeeName', 'Salary').show()\n",
        "df.filter(df['Salary'] > 3000).show()\n",
        "df.groupBy('Departement').avg('Salary').show()"
      ],
      "metadata": {
        "colab": {
          "base_uri": "https://localhost:8080/"
        },
        "id": "AvNAhOaX3do9",
        "outputId": "7d462ab2-d0d4-4110-91ae-bf4f67959ab8"
      },
      "execution_count": 51,
      "outputs": [
        {
          "output_type": "stream",
          "name": "stdout",
          "text": [
            "+------------+------+\n",
            "|EmployeeName|Salary|\n",
            "+------------+------+\n",
            "|       James|  3000|\n",
            "|     Michale|  4600|\n",
            "|      Robert|  4100|\n",
            "|       Maria|  3000|\n",
            "+------------+------+\n",
            "\n",
            "+------------+-----------+------+\n",
            "|EmployeeName|Departement|Salary|\n",
            "+------------+-----------+------+\n",
            "|     Michale|      Sales|  4600|\n",
            "|      Robert|      Sales|  4100|\n",
            "+------------+-----------+------+\n",
            "\n",
            "+-----------+-----------+\n",
            "|Departement|avg(Salary)|\n",
            "+-----------+-----------+\n",
            "|      Sales|     3900.0|\n",
            "|    Finance|     3000.0|\n",
            "+-----------+-----------+\n",
            "\n"
          ]
        }
      ]
    },
    {
      "cell_type": "code",
      "source": [
        "# Tugas 2\n",
        "df.select('nama_produk', 'harga').show() # Menampilkan data nama_produk dan harga\n",
        "df.groupBy().mean('harga').show() # Menampilkan rata-rata harga\n",
        "df.groupBy().max('harga').show() # Menampilkan harga tertinggi\n",
        "df.groupBy().min('harga').show() # Menampilkan harga terendah\n",
        "df.groupBy().sum('harga').show() # Menampilkan total harga\n"
      ],
      "metadata": {
        "colab": {
          "base_uri": "https://localhost:8080/"
        },
        "id": "B_1EllK8EYup",
        "outputId": "458d665b-6e2a-49d4-99a9-ea2120c86f3a"
      },
      "execution_count": 53,
      "outputs": [
        {
          "output_type": "stream",
          "name": "stdout",
          "text": [
            "+-----------+--------+\n",
            "|nama_produk|   harga|\n",
            "+-----------+--------+\n",
            "|     Laptop|14000000|\n",
            "|      Mouse|  250000|\n",
            "|    Headset|  200000|\n",
            "+-----------+--------+\n",
            "\n",
            "+-----------------+\n",
            "|       avg(harga)|\n",
            "+-----------------+\n",
            "|4816666.666666667|\n",
            "+-----------------+\n",
            "\n",
            "+----------+\n",
            "|max(harga)|\n",
            "+----------+\n",
            "|  14000000|\n",
            "+----------+\n",
            "\n",
            "+----------+\n",
            "|min(harga)|\n",
            "+----------+\n",
            "|    200000|\n",
            "+----------+\n",
            "\n",
            "+----------+\n",
            "|sum(harga)|\n",
            "+----------+\n",
            "|  14450000|\n",
            "+----------+\n",
            "\n"
          ]
        }
      ]
    },
    {
      "cell_type": "markdown",
      "source": [
        "# Bekerja dengan Tipe Data Kompleks"
      ],
      "metadata": {
        "id": "BwQpFj9-6_zP"
      }
    },
    {
      "cell_type": "markdown",
      "source": [
        "Tugas 3 : Eksporasi bagaimana mengolah tipe data kompleks dalam Spark DataFrames."
      ],
      "metadata": {
        "id": "rEF6OZON3-H8"
      }
    },
    {
      "cell_type": "code",
      "source": [
        "# Contoh manipulasi tipe data kompleks\n",
        "df = df.withColumn('SalaryBonus', df['Salary'] * 0.1)\n",
        "df = df.withColumn('TotalCompensaation', df['Salary'] + df['SalaryBonus'])\n",
        "\n",
        "df.show()"
      ],
      "metadata": {
        "id": "HkzSKOFP3-aK",
        "colab": {
          "base_uri": "https://localhost:8080/"
        },
        "outputId": "d20d37ee-5ef0-4c82-945b-2c51337051cb"
      },
      "execution_count": 28,
      "outputs": [
        {
          "output_type": "stream",
          "name": "stdout",
          "text": [
            "+------------+-----------+------+-----------+------------------+\n",
            "|EmployeeName|Departement|Salary|SalaryBonus|TotalCompensaation|\n",
            "+------------+-----------+------+-----------+------------------+\n",
            "|       James|      Sales|  3000|      300.0|            3300.0|\n",
            "|     Michale|      Sales|  4600|      460.0|            5060.0|\n",
            "|      Robert|      Sales|  4100|      410.0|            4510.0|\n",
            "|       Maria|    Finance|  3000|      300.0|            3300.0|\n",
            "+------------+-----------+------+-----------+------------------+\n",
            "\n"
          ]
        }
      ]
    },
    {
      "cell_type": "code",
      "source": [
        "# Tugas 3\n",
        "df.withColumn('diskon', df['harga'] * 0.2).show() # Menambahkan kolom dengan nama diskon\n",
        "df.withColumn('harga', df['harga'] + 100000).show() # Mengubah nilai harga"
      ],
      "metadata": {
        "colab": {
          "base_uri": "https://localhost:8080/"
        },
        "id": "DsQ1jVFfEbF5",
        "outputId": "adbafb9f-e42c-4ebd-df9a-7d792bdd1434"
      },
      "execution_count": 54,
      "outputs": [
        {
          "output_type": "stream",
          "name": "stdout",
          "text": [
            "+-----------+-----------+----------+--------+---------+\n",
            "|kode_produk|nama_produk|  kategori|   harga|   diskon|\n",
            "+-----------+-----------+----------+--------+---------+\n",
            "|       P001|     Laptop|Elektronik|14000000|2800000.0|\n",
            "|       P002|      Mouse|Elektronik|  250000|  50000.0|\n",
            "|       P003|    Headset|Elektronik|  200000|  40000.0|\n",
            "+-----------+-----------+----------+--------+---------+\n",
            "\n",
            "+-----------+-----------+----------+--------+\n",
            "|kode_produk|nama_produk|  kategori|   harga|\n",
            "+-----------+-----------+----------+--------+\n",
            "|       P001|     Laptop|Elektronik|14100000|\n",
            "|       P002|      Mouse|Elektronik|  350000|\n",
            "|       P003|    Headset|Elektronik|  300000|\n",
            "+-----------+-----------+----------+--------+\n",
            "\n"
          ]
        }
      ]
    },
    {
      "cell_type": "markdown",
      "source": [
        "# Operasi Data Lanjutan"
      ],
      "metadata": {
        "id": "GjPJYb7d7GBd"
      }
    },
    {
      "cell_type": "markdown",
      "source": [
        "Tugas 4 : Implementasi windows fuction untuk menghitung running totals atau rangkings"
      ],
      "metadata": {
        "id": "qfKoUl_T4oqi"
      }
    },
    {
      "cell_type": "code",
      "source": [
        "# Contoh menggunakan window functions\n",
        "from pyspark.sql.window import Window\n",
        "from pyspark.sql import functions as F\n",
        "\n",
        "windowSpec = Window.partitionBy('Departement').orderBy('Salary')\n",
        "df.withColumn('Rank', F.rank().over(windowSpec)).show()"
      ],
      "metadata": {
        "colab": {
          "base_uri": "https://localhost:8080/"
        },
        "id": "y9llYVa14pLZ",
        "outputId": "718e9fdc-2af4-487b-ea90-831d0e04a4f0"
      },
      "execution_count": 29,
      "outputs": [
        {
          "output_type": "stream",
          "name": "stdout",
          "text": [
            "+------------+-----------+------+-----------+------------------+----+\n",
            "|EmployeeName|Departement|Salary|SalaryBonus|TotalCompensaation|Rank|\n",
            "+------------+-----------+------+-----------+------------------+----+\n",
            "|       Maria|    Finance|  3000|      300.0|            3300.0|   1|\n",
            "|       James|      Sales|  3000|      300.0|            3300.0|   1|\n",
            "|      Robert|      Sales|  4100|      410.0|            4510.0|   2|\n",
            "|     Michale|      Sales|  4600|      460.0|            5060.0|   3|\n",
            "+------------+-----------+------+-----------+------------------+----+\n",
            "\n"
          ]
        }
      ]
    },
    {
      "cell_type": "code",
      "source": [
        "# Tugas 4\n",
        "from pyspark.sql.window import Window\n",
        "from pyspark.sql import functions as F\n",
        "\n",
        "windowSpec = Window.partitionBy('kategori').orderBy('harga')\n",
        "df.withColumn('ranking', F.rank().over(windowSpec)).show()"
      ],
      "metadata": {
        "colab": {
          "base_uri": "https://localhost:8080/"
        },
        "id": "dDIuNsKYEdt_",
        "outputId": "7e70eb6f-6e6f-448b-9f6a-70d392b5188e"
      },
      "execution_count": 55,
      "outputs": [
        {
          "output_type": "stream",
          "name": "stdout",
          "text": [
            "+-----------+-----------+----------+--------+-------+\n",
            "|kode_produk|nama_produk|  kategori|   harga|ranking|\n",
            "+-----------+-----------+----------+--------+-------+\n",
            "|       P003|    Headset|Elektronik|  200000|      1|\n",
            "|       P002|      Mouse|Elektronik|  250000|      2|\n",
            "|       P001|     Laptop|Elektronik|14000000|      3|\n",
            "+-----------+-----------+----------+--------+-------+\n",
            "\n"
          ]
        }
      ]
    },
    {
      "cell_type": "markdown",
      "source": [
        "# Eksplorasi Lebih Lanjut"
      ],
      "metadata": {
        "id": "rtj56L7y7Jfv"
      }
    },
    {
      "cell_type": "markdown",
      "source": [
        "Tugas 5 :\n",
        "\n",
        "\n",
        "*   Unduh dataset besar dari Kaggle.\n",
        "*   Input data csv yang telah di download, kemudian load dan simpan data ke dalam pyspark.\n",
        "*   Setelah data berhasil di load menggunakan pyspark, lakukan manipulasi data untuk memperoleh informasi yang dibutuhkan\n",
        "\n",
        "\n",
        "\n"
      ],
      "metadata": {
        "id": "PD3p1IcH5hPY"
      }
    },
    {
      "cell_type": "code",
      "source": [
        "# Tugas 5\n",
        "from google.colab import files\n",
        "import_files = files.upload()\n",
        "\n",
        "from pyspark.sql import SparkSession\n",
        "from pyspark.sql.window import Window\n",
        "\n",
        "spark = SparkSession.builder.appName('AnalisaDataPenjualanMobil').getOrCreate()\n",
        "windowSpec = Window.partitionBy('Manufacturer').orderBy('Price')\n",
        "df = spark.read.csv('car_sales_data.csv', header=True, inferSchema=True)\n",
        "df.show()\n",
        "\n",
        "df.select('Model','Fuel type','Year of manufacture','Price').show() # Menampilkan data yang diminta\n",
        "df.filter(df['Year of manufacture'] > 2010).show() # Menampilakn data mobil dengan tahun di atas\n",
        "df.withColumn('Rank', F.rank().over(windowSpec)).show() # Mengurutkan data  berdasarkan yang diminta"
      ],
      "metadata": {
        "id": "nDuwHq505hhE",
        "colab": {
          "base_uri": "https://localhost:8080/",
          "height": 1000
        },
        "outputId": "28700840-2839-409a-a22d-9918778ceaac"
      },
      "execution_count": 66,
      "outputs": [
        {
          "output_type": "display_data",
          "data": {
            "text/plain": [
              "<IPython.core.display.HTML object>"
            ],
            "text/html": [
              "\n",
              "     <input type=\"file\" id=\"files-c96f6ece-d912-4517-a81a-b79bba71a6e6\" name=\"files[]\" multiple disabled\n",
              "        style=\"border:none\" />\n",
              "     <output id=\"result-c96f6ece-d912-4517-a81a-b79bba71a6e6\">\n",
              "      Upload widget is only available when the cell has been executed in the\n",
              "      current browser session. Please rerun this cell to enable.\n",
              "      </output>\n",
              "      <script>// Copyright 2017 Google LLC\n",
              "//\n",
              "// Licensed under the Apache License, Version 2.0 (the \"License\");\n",
              "// you may not use this file except in compliance with the License.\n",
              "// You may obtain a copy of the License at\n",
              "//\n",
              "//      http://www.apache.org/licenses/LICENSE-2.0\n",
              "//\n",
              "// Unless required by applicable law or agreed to in writing, software\n",
              "// distributed under the License is distributed on an \"AS IS\" BASIS,\n",
              "// WITHOUT WARRANTIES OR CONDITIONS OF ANY KIND, either express or implied.\n",
              "// See the License for the specific language governing permissions and\n",
              "// limitations under the License.\n",
              "\n",
              "/**\n",
              " * @fileoverview Helpers for google.colab Python module.\n",
              " */\n",
              "(function(scope) {\n",
              "function span(text, styleAttributes = {}) {\n",
              "  const element = document.createElement('span');\n",
              "  element.textContent = text;\n",
              "  for (const key of Object.keys(styleAttributes)) {\n",
              "    element.style[key] = styleAttributes[key];\n",
              "  }\n",
              "  return element;\n",
              "}\n",
              "\n",
              "// Max number of bytes which will be uploaded at a time.\n",
              "const MAX_PAYLOAD_SIZE = 100 * 1024;\n",
              "\n",
              "function _uploadFiles(inputId, outputId) {\n",
              "  const steps = uploadFilesStep(inputId, outputId);\n",
              "  const outputElement = document.getElementById(outputId);\n",
              "  // Cache steps on the outputElement to make it available for the next call\n",
              "  // to uploadFilesContinue from Python.\n",
              "  outputElement.steps = steps;\n",
              "\n",
              "  return _uploadFilesContinue(outputId);\n",
              "}\n",
              "\n",
              "// This is roughly an async generator (not supported in the browser yet),\n",
              "// where there are multiple asynchronous steps and the Python side is going\n",
              "// to poll for completion of each step.\n",
              "// This uses a Promise to block the python side on completion of each step,\n",
              "// then passes the result of the previous step as the input to the next step.\n",
              "function _uploadFilesContinue(outputId) {\n",
              "  const outputElement = document.getElementById(outputId);\n",
              "  const steps = outputElement.steps;\n",
              "\n",
              "  const next = steps.next(outputElement.lastPromiseValue);\n",
              "  return Promise.resolve(next.value.promise).then((value) => {\n",
              "    // Cache the last promise value to make it available to the next\n",
              "    // step of the generator.\n",
              "    outputElement.lastPromiseValue = value;\n",
              "    return next.value.response;\n",
              "  });\n",
              "}\n",
              "\n",
              "/**\n",
              " * Generator function which is called between each async step of the upload\n",
              " * process.\n",
              " * @param {string} inputId Element ID of the input file picker element.\n",
              " * @param {string} outputId Element ID of the output display.\n",
              " * @return {!Iterable<!Object>} Iterable of next steps.\n",
              " */\n",
              "function* uploadFilesStep(inputId, outputId) {\n",
              "  const inputElement = document.getElementById(inputId);\n",
              "  inputElement.disabled = false;\n",
              "\n",
              "  const outputElement = document.getElementById(outputId);\n",
              "  outputElement.innerHTML = '';\n",
              "\n",
              "  const pickedPromise = new Promise((resolve) => {\n",
              "    inputElement.addEventListener('change', (e) => {\n",
              "      resolve(e.target.files);\n",
              "    });\n",
              "  });\n",
              "\n",
              "  const cancel = document.createElement('button');\n",
              "  inputElement.parentElement.appendChild(cancel);\n",
              "  cancel.textContent = 'Cancel upload';\n",
              "  const cancelPromise = new Promise((resolve) => {\n",
              "    cancel.onclick = () => {\n",
              "      resolve(null);\n",
              "    };\n",
              "  });\n",
              "\n",
              "  // Wait for the user to pick the files.\n",
              "  const files = yield {\n",
              "    promise: Promise.race([pickedPromise, cancelPromise]),\n",
              "    response: {\n",
              "      action: 'starting',\n",
              "    }\n",
              "  };\n",
              "\n",
              "  cancel.remove();\n",
              "\n",
              "  // Disable the input element since further picks are not allowed.\n",
              "  inputElement.disabled = true;\n",
              "\n",
              "  if (!files) {\n",
              "    return {\n",
              "      response: {\n",
              "        action: 'complete',\n",
              "      }\n",
              "    };\n",
              "  }\n",
              "\n",
              "  for (const file of files) {\n",
              "    const li = document.createElement('li');\n",
              "    li.append(span(file.name, {fontWeight: 'bold'}));\n",
              "    li.append(span(\n",
              "        `(${file.type || 'n/a'}) - ${file.size} bytes, ` +\n",
              "        `last modified: ${\n",
              "            file.lastModifiedDate ? file.lastModifiedDate.toLocaleDateString() :\n",
              "                                    'n/a'} - `));\n",
              "    const percent = span('0% done');\n",
              "    li.appendChild(percent);\n",
              "\n",
              "    outputElement.appendChild(li);\n",
              "\n",
              "    const fileDataPromise = new Promise((resolve) => {\n",
              "      const reader = new FileReader();\n",
              "      reader.onload = (e) => {\n",
              "        resolve(e.target.result);\n",
              "      };\n",
              "      reader.readAsArrayBuffer(file);\n",
              "    });\n",
              "    // Wait for the data to be ready.\n",
              "    let fileData = yield {\n",
              "      promise: fileDataPromise,\n",
              "      response: {\n",
              "        action: 'continue',\n",
              "      }\n",
              "    };\n",
              "\n",
              "    // Use a chunked sending to avoid message size limits. See b/62115660.\n",
              "    let position = 0;\n",
              "    do {\n",
              "      const length = Math.min(fileData.byteLength - position, MAX_PAYLOAD_SIZE);\n",
              "      const chunk = new Uint8Array(fileData, position, length);\n",
              "      position += length;\n",
              "\n",
              "      const base64 = btoa(String.fromCharCode.apply(null, chunk));\n",
              "      yield {\n",
              "        response: {\n",
              "          action: 'append',\n",
              "          file: file.name,\n",
              "          data: base64,\n",
              "        },\n",
              "      };\n",
              "\n",
              "      let percentDone = fileData.byteLength === 0 ?\n",
              "          100 :\n",
              "          Math.round((position / fileData.byteLength) * 100);\n",
              "      percent.textContent = `${percentDone}% done`;\n",
              "\n",
              "    } while (position < fileData.byteLength);\n",
              "  }\n",
              "\n",
              "  // All done.\n",
              "  yield {\n",
              "    response: {\n",
              "      action: 'complete',\n",
              "    }\n",
              "  };\n",
              "}\n",
              "\n",
              "scope.google = scope.google || {};\n",
              "scope.google.colab = scope.google.colab || {};\n",
              "scope.google.colab._files = {\n",
              "  _uploadFiles,\n",
              "  _uploadFilesContinue,\n",
              "};\n",
              "})(self);\n",
              "</script> "
            ]
          },
          "metadata": {}
        },
        {
          "output_type": "stream",
          "name": "stdout",
          "text": [
            "Saving car_sales_data.csv to car_sales_data (10).csv\n",
            "+------------+----------+-----------+---------+-------------------+-------+-----+\n",
            "|Manufacturer|     Model|Engine size|Fuel type|Year of manufacture|Mileage|Price|\n",
            "+------------+----------+-----------+---------+-------------------+-------+-----+\n",
            "|        Ford|    Fiesta|        1.0|   Petrol|               2002| 127300| 3074|\n",
            "|     Porsche|718 Cayman|        4.0|   Petrol|               2016|  57850|49704|\n",
            "|        Ford|    Mondeo|        1.6|   Diesel|               2014|  39190|24072|\n",
            "|      Toyota|      RAV4|        1.8|   Hybrid|               1988| 210814| 1705|\n",
            "|          VW|      Polo|        1.0|   Petrol|               2006| 127869| 4101|\n",
            "|        Ford|     Focus|        1.4|   Petrol|               2018|  33603|29204|\n",
            "|        Ford|    Mondeo|        1.8|   Diesel|               2010|  86686|14350|\n",
            "|      Toyota|     Prius|        1.4|   Hybrid|               2015|  30663|30297|\n",
            "|          VW|      Polo|        1.2|   Petrol|               2012|  73470| 9977|\n",
            "|        Ford|     Focus|        2.0|   Diesel|               1992| 262514| 1049|\n",
            "|          VW|      Golf|        2.0|   Diesel|               2014|  83047|17173|\n",
            "|         BMW|        Z4|        2.0|   Petrol|               1990| 293666|  719|\n",
            "|          VW|      Golf|        1.2|   Diesel|               2007|  92697| 7792|\n",
            "|      Toyota|      RAV4|        2.2|   Petrol|               2007|  79393|16026|\n",
            "|      Toyota|     Yaris|        1.4|   Petrol|               1998|  97286| 4046|\n",
            "|          VW|      Golf|        1.6|   Diesel|               1989| 222390|  933|\n",
            "|      Toyota|      RAV4|        2.4|   Hybrid|               2003| 117425|11667|\n",
            "|      Toyota|     Yaris|        1.2|   Petrol|               1992| 245990|  720|\n",
            "|      Toyota|      RAV4|        2.0|   Hybrid|               2018|  28381|52671|\n",
            "|          VW|      Polo|        1.2|   Petrol|               1998| 155038| 2118|\n",
            "+------------+----------+-----------+---------+-------------------+-------+-----+\n",
            "only showing top 20 rows\n",
            "\n",
            "+----------+---------+-------------------+-----+\n",
            "|     Model|Fuel type|Year of manufacture|Price|\n",
            "+----------+---------+-------------------+-----+\n",
            "|    Fiesta|   Petrol|               2002| 3074|\n",
            "|718 Cayman|   Petrol|               2016|49704|\n",
            "|    Mondeo|   Diesel|               2014|24072|\n",
            "|      RAV4|   Hybrid|               1988| 1705|\n",
            "|      Polo|   Petrol|               2006| 4101|\n",
            "|     Focus|   Petrol|               2018|29204|\n",
            "|    Mondeo|   Diesel|               2010|14350|\n",
            "|     Prius|   Hybrid|               2015|30297|\n",
            "|      Polo|   Petrol|               2012| 9977|\n",
            "|     Focus|   Diesel|               1992| 1049|\n",
            "|      Golf|   Diesel|               2014|17173|\n",
            "|        Z4|   Petrol|               1990|  719|\n",
            "|      Golf|   Diesel|               2007| 7792|\n",
            "|      RAV4|   Petrol|               2007|16026|\n",
            "|     Yaris|   Petrol|               1998| 4046|\n",
            "|      Golf|   Diesel|               1989|  933|\n",
            "|      RAV4|   Hybrid|               2003|11667|\n",
            "|     Yaris|   Petrol|               1992|  720|\n",
            "|      RAV4|   Hybrid|               2018|52671|\n",
            "|      Polo|   Petrol|               1998| 2118|\n",
            "+----------+---------+-------------------+-----+\n",
            "only showing top 20 rows\n",
            "\n",
            "+------------+----------+-----------+---------+-------------------+-------+-----+\n",
            "|Manufacturer|     Model|Engine size|Fuel type|Year of manufacture|Mileage|Price|\n",
            "+------------+----------+-----------+---------+-------------------+-------+-----+\n",
            "|     Porsche|718 Cayman|        4.0|   Petrol|               2016|  57850|49704|\n",
            "|        Ford|    Mondeo|        1.6|   Diesel|               2014|  39190|24072|\n",
            "|        Ford|     Focus|        1.4|   Petrol|               2018|  33603|29204|\n",
            "|      Toyota|     Prius|        1.4|   Hybrid|               2015|  30663|30297|\n",
            "|          VW|      Polo|        1.2|   Petrol|               2012|  73470| 9977|\n",
            "|          VW|      Golf|        2.0|   Diesel|               2014|  83047|17173|\n",
            "|      Toyota|      RAV4|        2.0|   Hybrid|               2018|  28381|52671|\n",
            "|      Toyota|     Prius|        1.8|   Hybrid|               2017|  31958|38961|\n",
            "|          VW|      Golf|        2.0|   Petrol|               2020|  18985|36387|\n",
            "|          VW|      Polo|        1.6|   Petrol|               2016|  52409|17257|\n",
            "|         BMW|        M5|        4.0|   Petrol|               2017|  22759|97758|\n",
            "|        Ford|    Fiesta|        1.4|   Petrol|               2014|  41495|14721|\n",
            "|        Ford|    Fiesta|        1.0|   Diesel|               2017|  38370|16257|\n",
            "|      Toyota|      RAV4|        2.4|   Petrol|               2018|  24588|49125|\n",
            "|     Porsche|   Cayenne|        2.6|   Diesel|               2015|  33693|54037|\n",
            "|          VW|      Golf|        2.0|   Hybrid|               2018|  25017|36957|\n",
            "|      Toyota|     Prius|        1.4|   Hybrid|               2016|  43893|29946|\n",
            "|      Toyota|     Prius|        1.4|   Hybrid|               2016|  43130|30085|\n",
            "|          VW|    Passat|        1.6|   Petrol|               2016|  64344|23641|\n",
            "|     Porsche|718 Cayman|        2.4|   Petrol|               2021|  14070|69526|\n",
            "+------------+----------+-----------+---------+-------------------+-------+-----+\n",
            "only showing top 20 rows\n",
            "\n",
            "+------------+-----+-----------+---------+-------------------+-------+-----+----+\n",
            "|Manufacturer|Model|Engine size|Fuel type|Year of manufacture|Mileage|Price|Rank|\n",
            "+------------+-----+-----------+---------+-------------------+-------+-----+----+\n",
            "|         BMW|   X3|        3.0|   Diesel|               1986| 446897|  167|   1|\n",
            "|         BMW|   X3|        2.4|   Diesel|               1984| 386079|  238|   2|\n",
            "|         BMW|   Z4|        2.4|   Petrol|               1989| 402743|  256|   3|\n",
            "|         BMW|   X3|        2.0|   Diesel|               1986| 376756|  272|   4|\n",
            "|         BMW|   Z4|        2.0|   Petrol|               1986| 354685|  306|   5|\n",
            "|         BMW|   Z4|        2.4|   Petrol|               1989| 384283|  307|   6|\n",
            "|         BMW|   M5|        5.0|   Petrol|               1986| 453537|  331|   7|\n",
            "|         BMW|   X3|        2.4|   Diesel|               1985| 358616|  333|   8|\n",
            "|         BMW|   Z4|        2.2|   Petrol|               1985| 343144|  336|   9|\n",
            "|         BMW|   Z4|        2.0|   Petrol|               1988| 339324|  406|  10|\n",
            "|         BMW|   Z4|        3.0|   Petrol|               1986| 340947|  429|  11|\n",
            "|         BMW|   M5|        5.0|   Petrol|               1988| 434923|  454|  12|\n",
            "|         BMW|   X3|        2.4|   Diesel|               1987| 332089|  492|  13|\n",
            "|         BMW|   X3|        3.0|   Diesel|               1984| 322154|  496|  14|\n",
            "|         BMW|   X3|        2.4|   Diesel|               1991| 357972|  500|  15|\n",
            "|         BMW|   X3|        2.4|   Diesel|               1988| 331751|  528|  16|\n",
            "|         BMW|   X3|        3.0|   Diesel|               1987| 336246|  529|  17|\n",
            "|         BMW|   Z4|        2.2|   Petrol|               1988| 315308|  537|  18|\n",
            "|         BMW|   X3|        2.0|   Diesel|               1985| 292571|  574|  19|\n",
            "|         BMW|   X3|        2.0|   Diesel|               1985| 291955|  578|  20|\n",
            "+------------+-----+-----------+---------+-------------------+-------+-----+----+\n",
            "only showing top 20 rows\n",
            "\n"
          ]
        }
      ]
    }
  ]
}